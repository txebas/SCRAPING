{
  "nbformat": 4,
  "nbformat_minor": 0,
  "metadata": {
    "colab": {
      "provenance": [],
      "authorship_tag": "ABX9TyMHDlye0kpBBXzw5kTn+peK",
      "include_colab_link": true
    },
    "kernelspec": {
      "name": "python3",
      "display_name": "Python 3"
    },
    "language_info": {
      "name": "python"
    }
  },
  "cells": [
    {
      "cell_type": "markdown",
      "metadata": {
        "id": "view-in-github",
        "colab_type": "text"
      },
      "source": [
        "<a href=\"https://colab.research.google.com/github/txebas/SCRAPING/blob/main/Scrapingestad%C3%ADsticastecnoempleo.ipynb\" target=\"_parent\"><img src=\"https://colab.research.google.com/assets/colab-badge.svg\" alt=\"Open In Colab\"/></a>"
      ]
    },
    {
      "cell_type": "markdown",
      "source": [
        "# Scraping tecnoempleo\n",
        "Obtención de titulos y enlaces a ofertas"
      ],
      "metadata": {
        "id": "KGKNYBdU127h"
      }
    },
    {
      "cell_type": "code",
      "execution_count": 1,
      "metadata": {
        "colab": {
          "base_uri": "https://localhost:8080/"
        },
        "id": "p_wrZGRAhhLB",
        "outputId": "c7a453e2-029f-4d9c-f7c6-85309d2f8aee"
      },
      "outputs": [
        {
          "output_type": "stream",
          "name": "stdout",
          "text": [
            "Título: DevOps Terraform, Enlace: https://www.tecnoempleo.com/devops-terraform-remoto/terraform-kubernetes-python-ci-cd-devops/rf-d4b81e95929823f7cd47\n",
            "Título: Consultor de Ciberseguridad PKI, Enlace: https://www.tecnoempleo.com/consultor-ciberseguridad-pki-hibrido/ciberseguridad-pki-firma-electronica/rf-3c6e1a725213539b1447\n",
            "Título: Arquitecto de Sistemas, Enlace: https://www.tecnoempleo.com/arquitecto-sistemas-hibrido/sql-server-azure-sharepoint/rf-50141274c298f30f6640\n",
            "Título: Software Embedded Engineer, Enlace: https://www.tecnoempleo.com/software-embedded-engineer-hibrido/c-c-microcontroladores/rf-aa40172eb2a97336b946\n",
            "Título: Ingeniero/a Mecánico (Sec. Ferroviario), Enlace: https://www.tecnoempleo.com/ingeniero-mecanico-sec-ferroviario-presencial/solidworks-psd-3d/rf-b15e15206255a360e74f\n",
            "Título: Consultor de implantación, Enlace: https://www.tecnoempleo.com/consultor-implantacion-hibrido/erp/rf-62f519d08286b3b4a84a\n",
            "Título: Desarrollador Senior Power BI, Enlace: https://www.tecnoempleo.com/desarrollador-senior-power-bi-remoto/bi-power-bi-dax-studio-azure/rf-e5941a0c82bb73498b48\n",
            "Título: Analista de Datos Junior, Enlace: https://www.tecnoempleo.com/analista-datos-junior-hibrido/python-databricks-pyspark-power-bi-erd-bi-aw/rf-69ed1556e285a3fed343\n",
            "Título: Ingeniero/a de preventa - Comunicaciones, Enlace: https://www.tecnoempleo.com/ingeniero-preventa-comunicaciones-hibrido/cisco-aruba-networks-palo-alt-fo/rf-12911fd7721c93815448\n",
            "Título: Key Account Manager - Infraestructura IT, Enlace: https://www.tecnoempleo.com/key-account-manager-infraestructura-it-hibrido/cpd-data-center-switching-r/rf-b2c31886028a03048f4d\n",
            "Título: Técnico de Soporte Junior, Enlace: https://www.tecnoempleo.com/tecnico-soporte-junior-presencial/soporte-microinformatica/rf-3df514eaf26553dd3045\n",
            "Título: Programador ABAP, Enlace: https://www.tecnoempleo.com/programador-abap-sevilla/sap-microsoft-office/rf-94a715a1a260c3af3c40\n",
            "Título: Consultor/a Ciberseguridad, Enlace: https://www.tecnoempleo.com/consultor-ciberseguridad-hibrido/meraki-juniper-palo-alto-checkpoint/rf-5d70191392c173836244\n",
            "Título: DBA PostgreSQL, Enlace: https://www.tecnoempleo.com/dba-postgresql-hibrido/postgresql-dba-oracle/rf-52fb156d7212d3b3b948\n",
            "Título: DBA SQL Server, Enlace: https://www.tecnoempleo.com/dba-sql-server-hibrido/sql-server-alwayson-powershell/rf-de681d2112ae13acd44c\n",
            "Título: Consultor/a SAP SD-MM ¡Remoto!, Enlace: https://www.tecnoempleo.com/consultor-sap-sd-mm-remoto-remoto/sap-sap-sd-sap-mm-sap-le/rf-1404187a72f8c33e4744\n",
            "Título: Full Stack Developer (Ingles C1), Enlace: https://www.tecnoempleo.com/full-stack-developer-ingles-c1-hibrido/java-spring-mongo-angular-javascrip/rf-1abe196ca2b213a8f249\n",
            "Título: Desarrollador/a Java JSP, Enlace: https://www.tecnoempleo.com/desarrollador-java-jsp-remoto/java-jsp-legacy-server-sql/rf-b95c1887b21e73b7d74e\n",
            "Título: Ingeniero/a Flight Control Junior, Enlace: https://www.tecnoempleo.com/ingeniero-flight-control-junior-hibrido/matlab-simulink-c-c/rf-29f9177f424653399746\n",
            "Título: Administrador/a de sistemas Sénior, Enlace: https://www.tecnoempleo.com/administrador-sistemas-senior-remoto/azure-active-directory-aws-red-hat-se/rf-d674162152b6534ddb43\n",
            "Título: Ingeniero/a de Sistemas Linux, Enlace: https://www.tecnoempleo.com/ingeniero-sistemas-linux-hibrido/linux-f5-kubernetes-oracle-mongodb/rf-99ef1338322d83593547\n",
            "Título: Programador/a Vuejs, Enlace: https://www.tecnoempleo.com/programador-vuejs-hibrido/vuejs-nodejs-mongodb-javascript/rf-d4d5164ed220c3912449\n",
            "Título: Ingeniero DevOps, Enlace: https://www.tecnoempleo.com/ingeniero-devops-remoto/confluence-jira-docker-api-aws/rf-f4d31f061280636ea04d\n",
            "Título: Arquitecto Soluciones Banca - Ingles C1, Enlace: https://www.tecnoempleo.com/arquitecto-soluciones-banca-ingles-c1-madrid/api-salesforce-aws/rf-c5211a5be2cb7350bb40\n",
            "Título: Arquitecto Junior Banca (Inglés C1), Enlace: https://www.tecnoempleo.com/arquitecto-junior-banca-ingles-c1-remoto/api-baas-bian/rf-e5dc196f321a63b9cb40\n",
            "Título: Programador/a React - LitElement, Enlace: https://www.tecnoempleo.com/programador-react-litelement-remoto/react-litelement-html-css/rf-1a50194d22be831aeb49\n",
            "Título: Desarrollador Java Fullstack, Enlace: https://www.tecnoempleo.com/desarrollador-java-fullstack-remoto/java-angular-spring-javascript-jira-gi/rf-b7181479b289a3047b43\n",
            "Título: Analista Programador Java - Spring Boot, Enlace: https://www.tecnoempleo.com/analista-programador-java-spring-boot-remoto/java-springboot-maven-jenkins/rf-247f15a1729873682f45\n",
            "Título: AP o Programador/a PowerBuilder, Enlace: https://www.tecnoempleo.com/ap-o-programador-powerbuilder-hibrido/powerbuilder-pl-sql-oracle-sql-devel/rf-afd61b10c2f9335c054b\n",
            "Título: Desarrollador/a Senior PHP ¡Remoto!, Enlace: https://www.tecnoempleo.com/desarrollador-senior-php-remoto-remoto/php-symfony-git-docker/rf-8e8f1b1bc258d30d3149\n"
          ]
        }
      ],
      "source": [
        "import requests\n",
        "from bs4 import BeautifulSoup\n",
        "\n",
        "# URL de la página web\n",
        "url = \"https://www.tecnoempleo.com/ofertas-trabajo/\"\n",
        "\n",
        "# Realizar la solicitud HTTP a la página web\n",
        "response = requests.get(url)\n",
        "response.raise_for_status()  # Verificar que la solicitud fue exitosa\n",
        "\n",
        "# Analizar el contenido HTML de la página web\n",
        "soup = BeautifulSoup(response.text, 'html.parser')\n",
        "\n",
        "# Encontrar todos los elementos <a> con la clase especificada\n",
        "links = soup.find_all('a', class_=\"font-weight-bold text-cyan-700\")\n",
        "\n",
        "# Extraer los atributos href y los textos (títulos) de los elementos <a> encontrados\n",
        "hrefs_and_titles = [(link.get('href'), link.get_text(strip=True)) for link in links]\n",
        "\n",
        "# Imprimir los hrefs y títulos extraídos\n",
        "for href, title in hrefs_and_titles:\n",
        "    print(f'Título: {title}, Enlace: {href}')"
      ]
    },
    {
      "cell_type": "markdown",
      "source": [
        "Obtencion de número de CVs inscritos a cada oferta"
      ],
      "metadata": {
        "id": "tEh-SpAk14HZ"
      }
    },
    {
      "cell_type": "code",
      "source": [
        "import requests\n",
        "from bs4 import BeautifulSoup\n",
        "\n",
        "# Número de la página\n",
        "number = 1\n",
        "\n",
        "# URL de la página web\n",
        "url = \"https://www.tecnoempleo.com/ofertas-trabajo/?pagina=\"+str(number)\n",
        "\n",
        "# Realizar la solicitud HTTP a la página web\n",
        "response = requests.get(url)\n",
        "response.raise_for_status()  # Verificar que la solicitud fue exitosa\n",
        "\n",
        "# Analizar el contenido HTML de la página web\n",
        "soup = BeautifulSoup(response.text, 'html.parser')\n",
        "\n",
        "# Encontrar todos los elementos <a> con la clase especificada\n",
        "links = soup.find_all('a', class_=\"font-weight-bold text-cyan-700\")\n",
        "\n",
        "# Extraer los atributos href y los textos (títulos) de los elementos <a> encontrados\n",
        "hrefs_and_titles = [(link.get('href'), link.get_text(strip=True)) for link in links]\n",
        "\n",
        "# Imprimir los hrefs y títulos extraídos\n",
        "for href, title in hrefs_and_titles:\n",
        "  print(f'Título: {title}, Enlace: {href}')\n",
        "\n",
        "\n",
        "    # URL de la página web\n",
        "  url = href\n",
        "\n",
        "  # Realizar la solicitud HTTP a la página web\n",
        "  response = requests.get(url)\n",
        "  response.raise_for_status()  # Verificar que la solicitud fue exitosa\n",
        "\n",
        "  # Analizar el contenido HTML de la página web\n",
        "  soup = BeautifulSoup(response.text, 'html.parser')\n",
        "\n",
        "  # Buscar todos los divs con la clase \"d-flex py-2\"\n",
        "  divs = soup.find_all('div', class_=\"d-flex py-2\")\n",
        "\n",
        "  # Iterar sobre los divs y buscar el número de CVs inscritos en el proceso\n",
        "  for div in divs:\n",
        "      p_tag = div.find('p', class_='m-0')\n",
        "      if p_tag and 'CVs inscritos en el proceso:' in p_tag.text:\n",
        "          # Extraer el número usando una expresión regular\n",
        "          import re\n",
        "          match = re.search(r'\\d+', p_tag.text)\n",
        "          if match:\n",
        "              num_cvs = match.group()\n",
        "              print(f'CVs inscritos en el proceso: {num_cvs}')"
      ],
      "metadata": {
        "colab": {
          "base_uri": "https://localhost:8080/"
        },
        "id": "xUkhkGJfjr2s",
        "outputId": "20a80e18-d5b9-407e-c558-7025e1426096"
      },
      "execution_count": 2,
      "outputs": [
        {
          "output_type": "stream",
          "name": "stdout",
          "text": [
            "Título: DevOps Terraform, Enlace: https://www.tecnoempleo.com/devops-terraform-remoto/terraform-kubernetes-python-ci-cd-devops/rf-d4b81e95929823f7cd47\n",
            "CVs inscritos en el proceso: 31\n",
            "Título: Consultor de Ciberseguridad PKI, Enlace: https://www.tecnoempleo.com/consultor-ciberseguridad-pki-hibrido/ciberseguridad-pki-firma-electronica/rf-3c6e1a725213539b1447\n",
            "CVs inscritos en el proceso: 17\n",
            "Título: Arquitecto de Sistemas, Enlace: https://www.tecnoempleo.com/arquitecto-sistemas-hibrido/sql-server-azure-sharepoint/rf-50141274c298f30f6640\n",
            "CVs inscritos en el proceso: 14\n",
            "Título: Software Embedded Engineer, Enlace: https://www.tecnoempleo.com/software-embedded-engineer-hibrido/c-c-microcontroladores/rf-aa40172eb2a97336b946\n",
            "CVs inscritos en el proceso: 20\n",
            "Título: Ingeniero/a Mecánico (Sec. Ferroviario), Enlace: https://www.tecnoempleo.com/ingeniero-mecanico-sec-ferroviario-presencial/solidworks-psd-3d/rf-b15e15206255a360e74f\n",
            "CVs inscritos en el proceso: 12\n",
            "Título: Consultor de implantación, Enlace: https://www.tecnoempleo.com/consultor-implantacion-hibrido/erp/rf-62f519d08286b3b4a84a\n",
            "CVs inscritos en el proceso: 14\n",
            "Título: Desarrollador Senior Power BI, Enlace: https://www.tecnoempleo.com/desarrollador-senior-power-bi-remoto/bi-power-bi-dax-studio-azure/rf-e5941a0c82bb73498b48\n",
            "CVs inscritos en el proceso: 38\n",
            "Título: Analista de Datos Junior, Enlace: https://www.tecnoempleo.com/analista-datos-junior-hibrido/python-databricks-pyspark-power-bi-erd-bi-aw/rf-69ed1556e285a3fed343\n",
            "CVs inscritos en el proceso: 169\n",
            "Título: Ingeniero/a de preventa - Comunicaciones, Enlace: https://www.tecnoempleo.com/ingeniero-preventa-comunicaciones-hibrido/cisco-aruba-networks-palo-alt-fo/rf-12911fd7721c93815448\n",
            "CVs inscritos en el proceso: 7\n",
            "Título: Key Account Manager - Infraestructura IT, Enlace: https://www.tecnoempleo.com/key-account-manager-infraestructura-it-hibrido/cpd-data-center-switching-r/rf-b2c31886028a03048f4d\n",
            "CVs inscritos en el proceso: 8\n",
            "Título: Técnico de Soporte Junior, Enlace: https://www.tecnoempleo.com/tecnico-soporte-junior-presencial/soporte-microinformatica/rf-3df514eaf26553dd3045\n",
            "CVs inscritos en el proceso: 152\n",
            "Título: Programador ABAP, Enlace: https://www.tecnoempleo.com/programador-abap-sevilla/sap-microsoft-office/rf-94a715a1a260c3af3c40\n",
            "CVs inscritos en el proceso: 11\n",
            "Título: Consultor/a Ciberseguridad, Enlace: https://www.tecnoempleo.com/consultor-ciberseguridad-hibrido/meraki-juniper-palo-alto-checkpoint/rf-5d70191392c173836244\n",
            "CVs inscritos en el proceso: 0\n",
            "Título: DBA PostgreSQL, Enlace: https://www.tecnoempleo.com/dba-postgresql-hibrido/postgresql-dba-oracle/rf-52fb156d7212d3b3b948\n",
            "CVs inscritos en el proceso: 0\n",
            "Título: DBA SQL Server, Enlace: https://www.tecnoempleo.com/dba-sql-server-hibrido/sql-server-alwayson-powershell/rf-de681d2112ae13acd44c\n",
            "CVs inscritos en el proceso: 0\n",
            "Título: Consultor/a SAP SD-MM ¡Remoto!, Enlace: https://www.tecnoempleo.com/consultor-sap-sd-mm-remoto-remoto/sap-sap-sd-sap-mm-sap-le/rf-1404187a72f8c33e4744\n",
            "CVs inscritos en el proceso: 0\n",
            "Título: Full Stack Developer (Ingles C1), Enlace: https://www.tecnoempleo.com/full-stack-developer-ingles-c1-hibrido/java-spring-mongo-angular-javascrip/rf-1abe196ca2b213a8f249\n",
            "CVs inscritos en el proceso: 0\n",
            "Título: Desarrollador/a Java JSP, Enlace: https://www.tecnoempleo.com/desarrollador-java-jsp-remoto/java-jsp-legacy-server-sql/rf-b95c1887b21e73b7d74e\n",
            "CVs inscritos en el proceso: 0\n",
            "Título: Ingeniero/a Flight Control Junior, Enlace: https://www.tecnoempleo.com/ingeniero-flight-control-junior-hibrido/matlab-simulink-c-c/rf-29f9177f424653399746\n",
            "CVs inscritos en el proceso: 0\n",
            "Título: Administrador/a de sistemas Sénior, Enlace: https://www.tecnoempleo.com/administrador-sistemas-senior-remoto/azure-active-directory-aws-red-hat-se/rf-d674162152b6534ddb43\n",
            "CVs inscritos en el proceso: 69\n",
            "Título: Ingeniero/a de Sistemas Linux, Enlace: https://www.tecnoempleo.com/ingeniero-sistemas-linux-hibrido/linux-f5-kubernetes-oracle-mongodb/rf-99ef1338322d83593547\n",
            "CVs inscritos en el proceso: 3\n",
            "Título: Programador/a Vuejs, Enlace: https://www.tecnoempleo.com/programador-vuejs-hibrido/vuejs-nodejs-mongodb-javascript/rf-d4d5164ed220c3912449\n",
            "CVs inscritos en el proceso: 21\n",
            "Título: Ingeniero DevOps, Enlace: https://www.tecnoempleo.com/ingeniero-devops-remoto/confluence-jira-docker-api-aws/rf-f4d31f061280636ea04d\n",
            "CVs inscritos en el proceso: 6\n",
            "Título: Arquitecto Soluciones Banca - Ingles C1, Enlace: https://www.tecnoempleo.com/arquitecto-soluciones-banca-ingles-c1-madrid/api-salesforce-aws/rf-c5211a5be2cb7350bb40\n",
            "CVs inscritos en el proceso: 4\n",
            "Título: Arquitecto Junior Banca (Inglés C1), Enlace: https://www.tecnoempleo.com/arquitecto-junior-banca-ingles-c1-remoto/api-baas-bian/rf-e5dc196f321a63b9cb40\n",
            "CVs inscritos en el proceso: 7\n",
            "Título: Programador/a React - LitElement, Enlace: https://www.tecnoempleo.com/programador-react-litelement-remoto/react-litelement-html-css/rf-1a50194d22be831aeb49\n",
            "CVs inscritos en el proceso: 145\n",
            "Título: Desarrollador Java Fullstack, Enlace: https://www.tecnoempleo.com/desarrollador-java-fullstack-remoto/java-angular-spring-javascript-jira-gi/rf-b7181479b289a3047b43\n",
            "CVs inscritos en el proceso: 282\n",
            "Título: Analista Programador Java - Spring Boot, Enlace: https://www.tecnoempleo.com/analista-programador-java-spring-boot-remoto/java-springboot-maven-jenkins/rf-247f15a1729873682f45\n",
            "CVs inscritos en el proceso: 95\n",
            "Título: AP o Programador/a PowerBuilder, Enlace: https://www.tecnoempleo.com/ap-o-programador-powerbuilder-hibrido/powerbuilder-pl-sql-oracle-sql-devel/rf-afd61b10c2f9335c054b\n",
            "CVs inscritos en el proceso: 6\n",
            "Título: Desarrollador/a Senior PHP ¡Remoto!, Enlace: https://www.tecnoempleo.com/desarrollador-senior-php-remoto-remoto/php-symfony-git-docker/rf-8e8f1b1bc258d30d3149\n",
            "CVs inscritos en el proceso: 50\n"
          ]
        }
      ]
    },
    {
      "cell_type": "markdown",
      "source": [
        "Obtención de datos de oferta"
      ],
      "metadata": {
        "id": "Yzoba5Fa2SVR"
      }
    },
    {
      "cell_type": "code",
      "source": [
        "import requests\n",
        "from bs4 import BeautifulSoup\n",
        "\n",
        "# URL de la página web\n",
        "url='https://www.tecnoempleo.com/analista-datos-junior-hibrido/python-databricks-pyspark-power-bi-erd-bi-aw/rf-69ed1556e285a3fed343'\n",
        "\n",
        "# Realiza una solicitud GET para obtener el contenido HTML de la página\n",
        "response = requests.get(url)\n",
        "\n",
        "# Verifica que la solicitud fue exitosa\n",
        "if response.status_code == 200:\n",
        "    html_content = response.content\n",
        "\n",
        "    # Analiza el contenido HTML con BeautifulSoup\n",
        "    soup = BeautifulSoup(html_content, 'html.parser')\n",
        "\n",
        "    # Encuentra la sección usando la ruta XPath o una clase específica\n",
        "    # Aquí usamos el selector de BeautifulSoup equivalente al XPath proporcionado\n",
        "    section = soup.select_one('#wrapper > section:nth-of-type(2) > div:nth-of-type(1) > div > div:nth-of-type(2)')\n",
        "\n",
        "    # Si se encuentra la sección\n",
        "    if section:\n",
        "        # Encuentra todos los elementos <li> con la clase específica\n",
        "        list_items = section.find_all('li', class_='list-item clearfix border-bottom py-2')\n",
        "\n",
        "        # Itera sobre los elementos <li> y extrae el contenido del <span> con la clase float-end\n",
        "        for item in list_items:\n",
        "            span = item.find('span', class_='float-end')\n",
        "            if span:\n",
        "                data = span.text.strip()\n",
        "                print(data)\n",
        "    else:\n",
        "        print(\"No se encontró la sección en la ruta especificada.\")\n",
        "else:\n",
        "    print(f\"Error al realizar la solicitud GET. Código de estado: {response.status_code}\")"
      ],
      "metadata": {
        "colab": {
          "base_uri": "https://localhost:8080/"
        },
        "id": "DEp-bBLr1pcD",
        "outputId": "07a348ae-022e-4b5d-9edb-4dbdf793f08a"
      },
      "execution_count": 3,
      "outputs": [
        {
          "output_type": "stream",
          "name": "stdout",
          "text": [
            "Madrid (Híbrido)\n",
            "Provincia Puesto\n",
            "Analista\n",
            "Jornada completa\n",
            "2 años\n",
            "Indefinido\n",
            "24.000 € - 33.000 € Bruto/año\n"
          ]
        }
      ]
    },
    {
      "cell_type": "markdown",
      "source": [
        "## Tareas\n",
        "\n",
        "#### - Obtener la fecha de cada oferta\n",
        "#### - Obtener los datos de las ofertas de las 100 primeras páginas\n"
      ],
      "metadata": {
        "id": "N0Dnz5pd2lvv"
      }
    },
    {
      "cell_type": "code",
      "source": [],
      "metadata": {
        "id": "N8atd7Ll2rCw"
      },
      "execution_count": null,
      "outputs": []
    }
  ]
}